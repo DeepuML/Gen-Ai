{
 "cells": [
  {
   "cell_type": "code",
   "execution_count": 2,
   "metadata": {},
   "outputs": [],
   "source": [
    "import nltk\n",
    "import gensim\n",
    "import string\n",
    "import matplotlib.pyplot as plt\n",
    "from gensim.models import Word2Vec\n",
    "from nltk.tokenize import word_tokenize\n",
    "from nltk.corpus import stopwords\n",
    "import numpy as np \n",
    "import re"
   ]
  },
  {
   "cell_type": "code",
   "execution_count": 3,
   "metadata": {},
   "outputs": [
    {
     "name": "stderr",
     "output_type": "stream",
     "text": [
      "[nltk_data] Downloading package punkt to\n",
      "[nltk_data]     C:\\Users\\Deepu\\AppData\\Roaming\\nltk_data...\n",
      "[nltk_data]   Package punkt is already up-to-date!\n",
      "[nltk_data] Downloading package stopwords to\n",
      "[nltk_data]     C:\\Users\\Deepu\\AppData\\Roaming\\nltk_data...\n",
      "[nltk_data]   Package stopwords is already up-to-date!\n"
     ]
    },
    {
     "data": {
      "text/plain": [
       "True"
      ]
     },
     "execution_count": 3,
     "metadata": {},
     "output_type": "execute_result"
    }
   ],
   "source": [
    "nltk.download('punkt')\n",
    "nltk.download('stopwords')"
   ]
  },
  {
   "cell_type": "code",
   "execution_count": 4,
   "metadata": {},
   "outputs": [],
   "source": [
    "corpus=[\"My name is sudhanshu kumar.\",\n",
    "        \"I use to teach all the data stack along with ops and cloud! ,\",\n",
    "        \"sfsgfjsg jhsgdyjsv  jhsgdyjbdgfb mhgskukgbdfgb seghujsb ,\",\n",
    "        \"nlp is very very amazing ,\",\n",
    "        \"we are trying to learn  word2vec ,\",\n",
    "        \"ArithmeticError ,\",\n",
    "        \"we will also work on cleaning the data which is basically a part of the data processing ,\",\n",
    "        \"Natural Language is a part of AI,\" ,\n",
    "        \"word 2 vec is being used for word embeddings\",\n",
    "        \"It is going to perform better then one hot , bow or TI-IDF\" ]"
   ]
  },
  {
   "cell_type": "markdown",
   "metadata": {},
   "source": [
    "Data Preprocessing"
   ]
  },
  {
   "cell_type": "code",
   "execution_count": 5,
   "metadata": {},
   "outputs": [],
   "source": [
    "s=\"my name is Sudhnahsu Lfejbc u4932\""
   ]
  },
  {
   "cell_type": "code",
   "execution_count": 6,
   "metadata": {},
   "outputs": [
    {
     "data": {
      "text/plain": [
       "'my name is sudhnahsu lfejbc u4932'"
      ]
     },
     "execution_count": 6,
     "metadata": {},
     "output_type": "execute_result"
    }
   ],
   "source": [
    "s.lower()"
   ]
  },
  {
   "cell_type": "code",
   "execution_count": 7,
   "metadata": {},
   "outputs": [
    {
     "data": {
      "text/plain": [
       "'my name is Sudhnahsu Lfejbc u'"
      ]
     },
     "execution_count": 7,
     "metadata": {},
     "output_type": "execute_result"
    }
   ],
   "source": [
    "re.sub(r'\\d',\"\",s)"
   ]
  },
  {
   "cell_type": "code",
   "execution_count": 8,
   "metadata": {},
   "outputs": [
    {
     "data": {
      "text/plain": [
       "'!\"#$%&\\'()*+,-./:;<=>?@[\\\\]^_`{|}~'"
      ]
     },
     "execution_count": 8,
     "metadata": {},
     "output_type": "execute_result"
    }
   ],
   "source": [
    "string.punctuation"
   ]
  },
  {
   "cell_type": "code",
   "execution_count": 9,
   "metadata": {},
   "outputs": [
    {
     "data": {
      "text/plain": [
       "'my name is Sudhnahsu Lfejbc u4932'"
      ]
     },
     "execution_count": 9,
     "metadata": {},
     "output_type": "execute_result"
    }
   ],
   "source": [
    "s.translate(str.maketrans(\"\",\"\",string.punctuation))"
   ]
  },
  {
   "cell_type": "code",
   "execution_count": 10,
   "metadata": {},
   "outputs": [
    {
     "data": {
      "text/plain": [
       "['my', 'name', 'is', 'Sudhnahsu', 'Lfejbc', 'u4932']"
      ]
     },
     "execution_count": 10,
     "metadata": {},
     "output_type": "execute_result"
    }
   ],
   "source": [
    "word_tokenize(s)"
   ]
  },
  {
   "cell_type": "code",
   "execution_count": 11,
   "metadata": {},
   "outputs": [],
   "source": [
    "s1=['my', 'name', 'is', 'Sudhnahsu', 'Lfejbc', 'u4932']"
   ]
  },
  {
   "cell_type": "code",
   "execution_count": 12,
   "metadata": {},
   "outputs": [
    {
     "data": {
      "text/plain": [
       "['name', 'Sudhnahsu', 'Lfejbc', 'u4932']"
      ]
     },
     "execution_count": 12,
     "metadata": {},
     "output_type": "execute_result"
    }
   ],
   "source": [
    "[i for i in s1 if i not in stopwords.words('english')]"
   ]
  },
  {
   "cell_type": "code",
   "execution_count": 13,
   "metadata": {},
   "outputs": [],
   "source": [
    "def word_preprocessing(text):\n",
    "    text = text.lower()\n",
    "    text = re.sub(r'\\d+', \"\", text)  \n",
    "    text = text.translate(str.maketrans(\"\", \"\", string.punctuation))  \n",
    "    word = word_tokenize(text)  \n",
    "    word = [i for i in word if i not in stopwords.words('english')]  \n",
    "\n",
    "    return word\n"
   ]
  },
  {
   "cell_type": "code",
   "execution_count": 14,
   "metadata": {},
   "outputs": [
    {
     "data": {
      "text/plain": [
       "['My name is sudhanshu kumar.',\n",
       " 'I use to teach all the data stack along with ops and cloud! ,',\n",
       " 'sfsgfjsg jhsgdyjsv  jhsgdyjbdgfb mhgskukgbdfgb seghujsb ,',\n",
       " 'nlp is very very amazing ,',\n",
       " 'we are trying to learn  word2vec ,',\n",
       " 'ArithmeticError ,',\n",
       " 'we will also work on cleaning the data which is basically a part of the data processing ,',\n",
       " 'Natural Language is a part of AI,',\n",
       " 'word 2 vec is being used for word embeddings',\n",
       " 'It is going to perform better then one hot , bow or TI-IDF']"
      ]
     },
     "execution_count": 14,
     "metadata": {},
     "output_type": "execute_result"
    }
   ],
   "source": [
    "corpus"
   ]
  },
  {
   "cell_type": "code",
   "execution_count": 15,
   "metadata": {},
   "outputs": [],
   "source": [
    "processed_corpus=[word_preprocessing(sentence) for sentence in corpus]"
   ]
  },
  {
   "cell_type": "code",
   "execution_count": 16,
   "metadata": {},
   "outputs": [
    {
     "data": {
      "text/plain": [
       "[['name', 'sudhanshu', 'kumar'],\n",
       " ['use', 'teach', 'data', 'stack', 'along', 'ops', 'cloud'],\n",
       " ['sfsgfjsg', 'jhsgdyjsv', 'jhsgdyjbdgfb', 'mhgskukgbdfgb', 'seghujsb'],\n",
       " ['nlp', 'amazing'],\n",
       " ['trying', 'learn', 'wordvec'],\n",
       " ['arithmeticerror'],\n",
       " ['also',\n",
       "  'work',\n",
       "  'cleaning',\n",
       "  'data',\n",
       "  'basically',\n",
       "  'part',\n",
       "  'data',\n",
       "  'processing'],\n",
       " ['natural', 'language', 'part', 'ai'],\n",
       " ['word', 'vec', 'used', 'word', 'embeddings'],\n",
       " ['going', 'perform', 'better', 'one', 'hot', 'bow', 'tiidf']]"
      ]
     },
     "execution_count": 16,
     "metadata": {},
     "output_type": "execute_result"
    }
   ],
   "source": [
    "processed_corpus"
   ]
  },
  {
   "cell_type": "code",
   "execution_count": 17,
   "metadata": {},
   "outputs": [],
   "source": [
    "word2vec_cbow=Word2Vec(sentences=processed_corpus,vector_size=100,window=5,min_count=1,sg=0)"
   ]
  },
  {
   "cell_type": "code",
   "execution_count": 18,
   "metadata": {},
   "outputs": [],
   "source": [
    "word2vec_skipgram=Word2Vec(sentences=processed_corpus,vector_size=100,window=5,min_count=1,sg=1)\n"
   ]
  },
  {
   "cell_type": "code",
   "execution_count": 19,
   "metadata": {},
   "outputs": [
    {
     "data": {
      "text/plain": [
       "<gensim.models.word2vec.Word2Vec at 0x1c887e97700>"
      ]
     },
     "execution_count": 19,
     "metadata": {},
     "output_type": "execute_result"
    }
   ],
   "source": [
    "word2vec_cbow"
   ]
  },
  {
   "cell_type": "code",
   "execution_count": 20,
   "metadata": {},
   "outputs": [
    {
     "data": {
      "text/plain": [
       "<gensim.models.word2vec.Word2Vec at 0x1c887e97820>"
      ]
     },
     "execution_count": 20,
     "metadata": {},
     "output_type": "execute_result"
    }
   ],
   "source": [
    "word2vec_skipgram"
   ]
  },
  {
   "cell_type": "code",
   "execution_count": 21,
   "metadata": {},
   "outputs": [
    {
     "data": {
      "text/plain": [
       "array([ 5.6267120e-03,  5.4973708e-03,  1.8291199e-03,  5.7494068e-03,\n",
       "       -8.9680776e-03,  6.5593575e-03,  9.2259916e-03, -4.2071473e-03,\n",
       "        1.6075504e-03, -5.2338815e-03,  1.0582185e-03,  2.7701687e-03,\n",
       "        8.1607364e-03,  5.4401276e-04,  2.5570584e-03,  1.2977350e-03,\n",
       "        8.4025227e-03, -5.7077026e-03, -6.2618302e-03, -3.6275184e-03,\n",
       "       -2.3005498e-03,  5.0410628e-03, -8.1203571e-03, -2.8335357e-03,\n",
       "       -8.1974268e-03,  5.1497100e-03, -2.5680638e-03, -9.0671070e-03,\n",
       "        4.0717293e-03,  9.0173231e-03, -3.0376601e-03, -5.8385395e-03,\n",
       "        3.0198884e-03, -4.3584823e-04, -9.9794362e-03,  8.4177041e-03,\n",
       "       -7.3388875e-03, -4.9304068e-03, -2.6570810e-03, -5.4523144e-03,\n",
       "        1.7165100e-03,  9.7128144e-03,  4.5722723e-03,  8.0886027e-03,\n",
       "       -4.7045827e-04,  6.4492342e-04, -2.6683521e-03, -8.7795611e-03,\n",
       "        3.4313034e-03,  2.0933736e-03, -9.4218543e-03, -4.9684369e-03,\n",
       "       -9.7340988e-03, -5.7197916e-03,  4.0645422e-03,  8.6428607e-03,\n",
       "        4.1116499e-03,  2.3884643e-03,  8.1447782e-03, -1.1192096e-03,\n",
       "       -1.3977134e-03, -8.7468233e-03, -1.2579202e-04, -2.5675725e-03,\n",
       "        3.8607715e-04,  7.2796619e-03, -7.0414604e-03, -3.9464748e-03,\n",
       "       -6.6646053e-03, -3.5441148e-03, -3.3158315e-03,  2.1371210e-03,\n",
       "        3.3281683e-03, -4.9571870e-03, -4.5462907e-03,  1.1386942e-03,\n",
       "        5.4534827e-03,  5.3736498e-03, -2.9685367e-03, -4.2665256e-03,\n",
       "       -5.6166472e-03, -5.4498314e-04,  1.9463730e-03,  1.5253461e-03,\n",
       "        7.3525296e-03, -2.7333724e-03, -6.5923930e-05, -5.5276332e-03,\n",
       "       -1.1700654e-03, -7.7119637e-03, -9.5932960e-04,  1.3096749e-03,\n",
       "       -8.5947439e-03,  8.7485835e-03, -9.2078662e-03, -9.6246768e-03,\n",
       "       -8.5116243e-03,  7.3132683e-03,  5.4655685e-03,  9.2494618e-03],\n",
       "      dtype=float32)"
      ]
     },
     "execution_count": 21,
     "metadata": {},
     "output_type": "execute_result"
    }
   ],
   "source": [
    "word2vec_skipgram.wv['sudhanshu']"
   ]
  },
  {
   "cell_type": "code",
   "execution_count": 22,
   "metadata": {},
   "outputs": [
    {
     "data": {
      "text/plain": [
       "100"
      ]
     },
     "execution_count": 22,
     "metadata": {},
     "output_type": "execute_result"
    }
   ],
   "source": [
    "len(word2vec_skipgram.wv['sudhanshu'])"
   ]
  },
  {
   "cell_type": "code",
   "execution_count": 23,
   "metadata": {},
   "outputs": [
    {
     "data": {
      "text/plain": [
       "[('mhgskukgbdfgb', 0.31903737783432007),\n",
       " ('going', 0.1890084445476532),\n",
       " ('along', 0.16222433745861053)]"
      ]
     },
     "execution_count": 23,
     "metadata": {},
     "output_type": "execute_result"
    }
   ],
   "source": [
    "word2vec_skipgram.wv.most_similar('sudhanshu',topn=3)"
   ]
  },
  {
   "cell_type": "code",
   "execution_count": 24,
   "metadata": {},
   "outputs": [
    {
     "data": {
      "text/plain": [
       "array([-8.7274825e-03,  2.1301615e-03, -8.7354420e-04, -9.3190884e-03,\n",
       "       -9.4281426e-03, -1.4107180e-03,  4.4324086e-03,  3.7040710e-03,\n",
       "       -6.4986930e-03, -6.8730675e-03, -4.9994122e-03, -2.2868442e-03,\n",
       "       -7.2502876e-03, -9.6033178e-03, -2.7436293e-03, -8.3628409e-03,\n",
       "       -6.0388758e-03, -5.6709289e-03, -2.3441375e-03, -1.7069972e-03,\n",
       "       -8.9569986e-03, -7.3519943e-04,  8.1525063e-03,  7.6904297e-03,\n",
       "       -7.2061159e-03, -3.6668312e-03,  3.1185520e-03, -9.5707225e-03,\n",
       "        1.4764392e-03,  6.5244664e-03,  5.7464195e-03, -8.7630618e-03,\n",
       "       -4.5171441e-03, -8.1401607e-03,  4.5956374e-05,  9.2636338e-03,\n",
       "        5.9733056e-03,  5.0673080e-03,  5.0610625e-03, -3.2429171e-03,\n",
       "        9.5521836e-03, -7.3564244e-03, -7.2703874e-03, -2.2653891e-03,\n",
       "       -7.7856064e-04, -3.2161034e-03, -5.9258583e-04,  7.4888230e-03,\n",
       "       -6.9751858e-04, -1.6249407e-03,  2.7443992e-03, -8.3591007e-03,\n",
       "        7.8558037e-03,  8.5361041e-03, -9.5840869e-03,  2.4462664e-03,\n",
       "        9.9049713e-03, -7.6658037e-03, -6.9669187e-03, -7.7365171e-03,\n",
       "        8.3959233e-03, -6.8133592e-04,  9.1444086e-03, -8.1582209e-03,\n",
       "        3.7430846e-03,  2.6350426e-03,  7.4271322e-04,  2.3276759e-03,\n",
       "       -7.4690939e-03, -9.3583735e-03,  2.3545765e-03,  6.1484552e-03,\n",
       "        7.9856887e-03,  5.7358947e-03, -7.7733636e-04,  8.3061643e-03,\n",
       "       -9.3363142e-03,  3.4061326e-03,  2.6675343e-04,  3.8572443e-03,\n",
       "        7.3857834e-03, -6.7251669e-03,  5.5844807e-03, -9.5222248e-03,\n",
       "       -8.0445886e-04, -8.6887367e-03, -5.0986730e-03,  9.2892265e-03,\n",
       "       -1.8582619e-03,  2.9144264e-03,  9.0712793e-03,  8.9381328e-03,\n",
       "       -8.2084350e-03, -3.0123137e-03,  9.8866057e-03,  5.1044310e-03,\n",
       "       -1.5880871e-03, -8.6920215e-03,  2.9615164e-03, -6.6758976e-03],\n",
       "      dtype=float32)"
      ]
     },
     "execution_count": 24,
     "metadata": {},
     "output_type": "execute_result"
    }
   ],
   "source": [
    "word2vec_cbow.wv['nlp']"
   ]
  },
  {
   "cell_type": "code",
   "execution_count": 25,
   "metadata": {},
   "outputs": [
    {
     "data": {
      "text/plain": [
       "-0.03804626"
      ]
     },
     "execution_count": 25,
     "metadata": {},
     "output_type": "execute_result"
    }
   ],
   "source": [
    "word2vec_cbow.wv.similarity(\"nlp\",\"ai\")"
   ]
  },
  {
   "cell_type": "code",
   "execution_count": 26,
   "metadata": {},
   "outputs": [
    {
     "data": {
      "text/plain": [
       "['data',\n",
       " 'word',\n",
       " 'part',\n",
       " 'cloud',\n",
       " 'amazing',\n",
       " 'nlp',\n",
       " 'seghujsb',\n",
       " 'mhgskukgbdfgb',\n",
       " 'jhsgdyjbdgfb',\n",
       " 'jhsgdyjsv',\n",
       " 'sfsgfjsg',\n",
       " 'tiidf',\n",
       " 'learn',\n",
       " 'ops',\n",
       " 'along',\n",
       " 'stack',\n",
       " 'teach',\n",
       " 'use',\n",
       " 'kumar',\n",
       " 'sudhanshu',\n",
       " 'trying',\n",
       " 'arithmeticerror',\n",
       " 'wordvec',\n",
       " 'vec',\n",
       " 'hot',\n",
       " 'one',\n",
       " 'better',\n",
       " 'perform',\n",
       " 'going',\n",
       " 'embeddings',\n",
       " 'used',\n",
       " 'ai',\n",
       " 'bow',\n",
       " 'language',\n",
       " 'natural',\n",
       " 'processing',\n",
       " 'basically',\n",
       " 'cleaning',\n",
       " 'work',\n",
       " 'also',\n",
       " 'name']"
      ]
     },
     "execution_count": 26,
     "metadata": {},
     "output_type": "execute_result"
    }
   ],
   "source": [
    "word2vec_cbow.wv.index_to_key"
   ]
  },
  {
   "cell_type": "code",
   "execution_count": 27,
   "metadata": {},
   "outputs": [
    {
     "data": {
      "text/plain": [
       "[('mhgskukgbdfgb', 0.3190403878688812),\n",
       " ('going', 0.18893900513648987),\n",
       " ('along', 0.16205990314483643),\n",
       " ('one', 0.1277230978012085),\n",
       " ('natural', 0.12737302482128143)]"
      ]
     },
     "execution_count": 27,
     "metadata": {},
     "output_type": "execute_result"
    }
   ],
   "source": [
    "word2vec_cbow.wv.most_similar(\"sudhanshu\",topn=5)"
   ]
  },
  {
   "cell_type": "code",
   "execution_count": 28,
   "metadata": {},
   "outputs": [
    {
     "data": {
      "text/plain": [
       "[('mhgskukgbdfgb', 0.31903737783432007),\n",
       " ('going', 0.1890084445476532),\n",
       " ('along', 0.16222433745861053),\n",
       " ('one', 0.12808766961097717),\n",
       " ('natural', 0.12737302482128143)]"
      ]
     },
     "execution_count": 28,
     "metadata": {},
     "output_type": "execute_result"
    }
   ],
   "source": [
    "word2vec_skipgram.wv.most_similar(\"sudhanshu\",topn=5)"
   ]
  },
  {
   "cell_type": "code",
   "execution_count": 29,
   "metadata": {},
   "outputs": [],
   "source": [
    "from sklearn.manifold import TSNE\n"
   ]
  },
  {
   "cell_type": "code",
   "execution_count": 32,
   "metadata": {},
   "outputs": [],
   "source": [
    "word_vectors=word2vec_cbow.wv\n",
    "vocab=list(word_vectors.index_to_key)"
   ]
  },
  {
   "cell_type": "code",
   "execution_count": 33,
   "metadata": {},
   "outputs": [
    {
     "data": {
      "text/plain": [
       "['data',\n",
       " 'word',\n",
       " 'part',\n",
       " 'cloud',\n",
       " 'amazing',\n",
       " 'nlp',\n",
       " 'seghujsb',\n",
       " 'mhgskukgbdfgb',\n",
       " 'jhsgdyjbdgfb',\n",
       " 'jhsgdyjsv',\n",
       " 'sfsgfjsg',\n",
       " 'tiidf',\n",
       " 'learn',\n",
       " 'ops',\n",
       " 'along',\n",
       " 'stack',\n",
       " 'teach',\n",
       " 'use',\n",
       " 'kumar',\n",
       " 'sudhanshu',\n",
       " 'trying',\n",
       " 'arithmeticerror',\n",
       " 'wordvec',\n",
       " 'vec',\n",
       " 'hot',\n",
       " 'one',\n",
       " 'better',\n",
       " 'perform',\n",
       " 'going',\n",
       " 'embeddings',\n",
       " 'used',\n",
       " 'ai',\n",
       " 'bow',\n",
       " 'language',\n",
       " 'natural',\n",
       " 'processing',\n",
       " 'basically',\n",
       " 'cleaning',\n",
       " 'work',\n",
       " 'also',\n",
       " 'name']"
      ]
     },
     "execution_count": 33,
     "metadata": {},
     "output_type": "execute_result"
    }
   ],
   "source": [
    "vocab"
   ]
  },
  {
   "cell_type": "code",
   "execution_count": 34,
   "metadata": {},
   "outputs": [
    {
     "data": {
      "text/plain": [
       "41"
      ]
     },
     "execution_count": 34,
     "metadata": {},
     "output_type": "execute_result"
    }
   ],
   "source": [
    "len(vocab)"
   ]
  },
  {
   "cell_type": "code",
   "execution_count": 38,
   "metadata": {},
   "outputs": [],
   "source": [
    "x=np.array([word_vectors[i] for i in vocab])"
   ]
  },
  {
   "cell_type": "markdown",
   "metadata": {},
   "source": [
    "Dimensionality Reduction"
   ]
  },
  {
   "cell_type": "code",
   "execution_count": 44,
   "metadata": {},
   "outputs": [],
   "source": [
    "tsne=TSNE(n_components=2)"
   ]
  },
  {
   "cell_type": "code",
   "execution_count": 45,
   "metadata": {},
   "outputs": [
    {
     "data": {
      "text/plain": [
       "array([[-0.5659482 ,  0.80919284],\n",
       "       [-1.706417  ,  1.6686146 ],\n",
       "       [-1.4867033 ,  0.8113456 ],\n",
       "       [-2.223734  ,  1.0288631 ],\n",
       "       [-1.5319421 ,  0.03436349],\n",
       "       [-2.3121774 ,  0.30326837],\n",
       "       [-0.8503993 ,  0.29204446],\n",
       "       [-0.96059316,  0.94339335],\n",
       "       [-1.8335016 ,  1.08319   ],\n",
       "       [-0.45450678,  1.126318  ],\n",
       "       [-0.6132091 ,  1.2976037 ],\n",
       "       [-1.4962934 ,  0.77035683],\n",
       "       [-0.56785405,  0.94729245],\n",
       "       [-1.6496979 , -0.05819248],\n",
       "       [-2.162565  ,  1.2877785 ],\n",
       "       [-1.4685253 ,  2.1614134 ],\n",
       "       [-0.34641463,  0.27852425],\n",
       "       [-2.162055  ,  1.227318  ],\n",
       "       [-1.3379977 ,  1.1975809 ],\n",
       "       [-1.1034243 ,  0.66860247],\n",
       "       [-1.5706147 ,  0.8192966 ],\n",
       "       [-1.178591  ,  0.28718752],\n",
       "       [-1.3720732 ,  1.8260353 ],\n",
       "       [-0.9424656 ,  1.8232572 ],\n",
       "       [-0.23713733,  1.6100823 ],\n",
       "       [-1.0838183 , -0.00624029],\n",
       "       [-1.1370486 ,  0.13912809],\n",
       "       [-1.7301362 ,  1.3499618 ],\n",
       "       [-0.63764805,  0.08208597],\n",
       "       [-1.0625145 ,  1.578226  ],\n",
       "       [-1.7879156 ,  0.6323132 ],\n",
       "       [-0.9930564 ,  1.9666659 ],\n",
       "       [-0.4531314 ,  0.94583696],\n",
       "       [-0.25700068,  0.47978818],\n",
       "       [-1.1607522 ,  0.9245747 ],\n",
       "       [-0.5692169 ,  1.2327241 ],\n",
       "       [-2.1061327 ,  0.79434097],\n",
       "       [-0.8664983 ,  0.5216218 ],\n",
       "       [-1.3685453 ,  0.13841537],\n",
       "       [-1.7610536 ,  0.47648412],\n",
       "       [-0.91490906,  1.5810103 ]], dtype=float32)"
      ]
     },
     "execution_count": 45,
     "metadata": {},
     "output_type": "execute_result"
    }
   ],
   "source": [
    "tsne.fit_transform(x)"
   ]
  },
  {
   "cell_type": "code",
   "execution_count": 46,
   "metadata": {},
   "outputs": [],
   "source": [
    "x_new_embedings=tsne.fit_transform(x)"
   ]
  },
  {
   "cell_type": "code",
   "execution_count": 47,
   "metadata": {},
   "outputs": [
    {
     "data": {
      "text/plain": [
       "<matplotlib.collections.PathCollection at 0x1c88da4d030>"
      ]
     },
     "execution_count": 47,
     "metadata": {},
     "output_type": "execute_result"
    },
    {
     "data": {
      "image/png": "[encoded data removed]",
      "text/plain": [
       "<Figure size 1200x600 with 1 Axes>"
      ]
     },
     "metadata": {},
     "output_type": "display_data"
    }
   ],
   "source": [
    "plt.figure(figsize=(12,6))\n",
    "plt.scatter(x_new_embedings[: , 0] , x_new_embedings[:,1],marker='o')\n"
   ]
  },
  {
   "cell_type": "code",
   "execution_count": 48,
   "metadata": {},
   "outputs": [
    {
     "data": {
      "text/plain": [
       "['data',\n",
       " 'word',\n",
       " 'part',\n",
       " 'cloud',\n",
       " 'amazing',\n",
       " 'nlp',\n",
       " 'seghujsb',\n",
       " 'mhgskukgbdfgb',\n",
       " 'jhsgdyjbdgfb',\n",
       " 'jhsgdyjsv',\n",
       " 'sfsgfjsg',\n",
       " 'tiidf',\n",
       " 'learn',\n",
       " 'ops',\n",
       " 'along',\n",
       " 'stack',\n",
       " 'teach',\n",
       " 'use',\n",
       " 'kumar',\n",
       " 'sudhanshu',\n",
       " 'trying',\n",
       " 'arithmeticerror',\n",
       " 'wordvec',\n",
       " 'vec',\n",
       " 'hot',\n",
       " 'one',\n",
       " 'better',\n",
       " 'perform',\n",
       " 'going',\n",
       " 'embeddings',\n",
       " 'used',\n",
       " 'ai',\n",
       " 'bow',\n",
       " 'language',\n",
       " 'natural',\n",
       " 'processing',\n",
       " 'basically',\n",
       " 'cleaning',\n",
       " 'work',\n",
       " 'also',\n",
       " 'name']"
      ]
     },
     "execution_count": 48,
     "metadata": {},
     "output_type": "execute_result"
    }
   ],
   "source": [
    "vocab"
   ]
  },
  {
   "cell_type": "code",
   "execution_count": 52,
   "metadata": {},
   "outputs": [
    {
     "data": {
      "image/png": "[encoded data removed]",
      "text/plain": [
       "<Figure size 1200x600 with 1 Axes>"
      ]
     },
     "metadata": {},
     "output_type": "display_data"
    }
   ],
   "source": [
    "plt.figure(figsize=(12,6))\n",
    "plt.scatter(x_new_embedings[: , 0] , x_new_embedings[:,1],marker='o')\n",
    "\n",
    "\n",
    "for i, words in enumerate(vocab[:len(x_new_embedings)]):\n",
    "    plt.annotate(words, xy=(x_new_embedings[i, 0], x_new_embedings[i, 1]))"
   ]
  },
  {
   "cell_type": "code",
   "execution_count": null,
   "metadata": {},
   "outputs": [],
   "source": []
  },
  {
   "cell_type": "code",
   "execution_count": null,
   "metadata": {},
   "outputs": [],
   "source": []
  }
 ],
 "metadata": {
  "kernelspec": {
   "display_name": "Python 3",
   "language": "python",
   "name": "python3"
  },
  "language_info": {
   "codemirror_mode": {
    "name": "ipython",
    "version": 3
   },
   "file_extension": ".py",
   "mimetype": "text/x-python",
   "name": "python",
   "nbconvert_exporter": "python",
   "pygments_lexer": "ipython3",
   "version": "3.10.11"
  }
 },
 "nbformat": 4,
 "nbformat_minor": 2
}
