{
 "cells": [
  {
   "cell_type": "code",
   "execution_count": 28,
   "metadata": {},
   "outputs": [],
   "source": [
    "corpus=[\"i love nlp\",\"i love Machine learning\",\"i study\",\"i am working with euron\"]"
   ]
  },
  {
   "cell_type": "code",
   "execution_count": 29,
   "metadata": {},
   "outputs": [
    {
     "data": {
      "text/plain": [
       "['i love nlp', 'i love Machine learning', 'i study', 'i am working with euron']"
      ]
     },
     "execution_count": 29,
     "metadata": {},
     "output_type": "execute_result"
    }
   ],
   "source": [
    "corpus"
   ]
  },
  {
   "cell_type": "code",
   "execution_count": 30,
   "metadata": {},
   "outputs": [
    {
     "data": {
      "text/plain": [
       "'i love nlp i love Machine learning i study i am working with euron'"
      ]
     },
     "execution_count": 30,
     "metadata": {},
     "output_type": "execute_result"
    }
   ],
   "source": [
    "\" \".join(corpus)"
   ]
  },
  {
   "cell_type": "code",
   "execution_count": 31,
   "metadata": {},
   "outputs": [
    {
     "data": {
      "text/plain": [
       "['i',\n",
       " 'love',\n",
       " 'nlp',\n",
       " 'i',\n",
       " 'love',\n",
       " 'Machine',\n",
       " 'learning',\n",
       " 'i',\n",
       " 'study',\n",
       " 'i',\n",
       " 'am',\n",
       " 'working',\n",
       " 'with',\n",
       " 'euron']"
      ]
     },
     "execution_count": 31,
     "metadata": {},
     "output_type": "execute_result"
    }
   ],
   "source": [
    "\" \".join(corpus).split()"
   ]
  },
  {
   "cell_type": "code",
   "execution_count": 32,
   "metadata": {},
   "outputs": [
    {
     "data": {
      "text/plain": [
       "list"
      ]
     },
     "execution_count": 32,
     "metadata": {},
     "output_type": "execute_result"
    }
   ],
   "source": [
    "type(\" \".join(corpus).split())"
   ]
  },
  {
   "cell_type": "code",
   "execution_count": 33,
   "metadata": {},
   "outputs": [
    {
     "data": {
      "text/plain": [
       "{'Machine',\n",
       " 'am',\n",
       " 'euron',\n",
       " 'i',\n",
       " 'learning',\n",
       " 'love',\n",
       " 'nlp',\n",
       " 'study',\n",
       " 'with',\n",
       " 'working'}"
      ]
     },
     "execution_count": 33,
     "metadata": {},
     "output_type": "execute_result"
    }
   ],
   "source": [
    "set(\" \".join(corpus).split())"
   ]
  },
  {
   "cell_type": "code",
   "execution_count": 34,
   "metadata": {},
   "outputs": [],
   "source": [
    "unique_words=set(\" \".join(corpus).split())"
   ]
  },
  {
   "cell_type": "code",
   "execution_count": 35,
   "metadata": {},
   "outputs": [
    {
     "data": {
      "text/plain": [
       "{'Machine',\n",
       " 'am',\n",
       " 'euron',\n",
       " 'i',\n",
       " 'learning',\n",
       " 'love',\n",
       " 'nlp',\n",
       " 'study',\n",
       " 'with',\n",
       " 'working'}"
      ]
     },
     "execution_count": 35,
     "metadata": {},
     "output_type": "execute_result"
    }
   ],
   "source": [
    "unique_words"
   ]
  },
  {
   "cell_type": "code",
   "execution_count": 36,
   "metadata": {},
   "outputs": [
    {
     "name": "stdout",
     "output_type": "stream",
     "text": [
      "(0, 'study')\n",
      "(1, 'with')\n",
      "(2, 'am')\n",
      "(3, 'euron')\n",
      "(4, 'working')\n",
      "(5, 'love')\n",
      "(6, 'i')\n",
      "(7, 'learning')\n",
      "(8, 'Machine')\n",
      "(9, 'nlp')\n"
     ]
    }
   ],
   "source": [
    "for i in enumerate(unique_words):\n",
    "    print(i)"
   ]
  },
  {
   "cell_type": "code",
   "execution_count": 37,
   "metadata": {},
   "outputs": [
    {
     "data": {
      "text/plain": [
       "{'study': 0,\n",
       " 'with': 1,\n",
       " 'am': 2,\n",
       " 'euron': 3,\n",
       " 'working': 4,\n",
       " 'love': 5,\n",
       " 'i': 6,\n",
       " 'learning': 7,\n",
       " 'Machine': 8,\n",
       " 'nlp': 9}"
      ]
     },
     "execution_count": 37,
     "metadata": {},
     "output_type": "execute_result"
    }
   ],
   "source": [
    "{word:i for i,word in enumerate(unique_words)}"
   ]
  },
  {
   "cell_type": "code",
   "execution_count": 38,
   "metadata": {},
   "outputs": [],
   "source": [
    "word_to_index={word:i for i,word in enumerate(unique_words)}"
   ]
  },
  {
   "cell_type": "code",
   "execution_count": 39,
   "metadata": {},
   "outputs": [
    {
     "data": {
      "text/plain": [
       "{'study': 0,\n",
       " 'with': 1,\n",
       " 'am': 2,\n",
       " 'euron': 3,\n",
       " 'working': 4,\n",
       " 'love': 5,\n",
       " 'i': 6,\n",
       " 'learning': 7,\n",
       " 'Machine': 8,\n",
       " 'nlp': 9}"
      ]
     },
     "execution_count": 39,
     "metadata": {},
     "output_type": "execute_result"
    }
   ],
   "source": [
    "word_to_index"
   ]
  },
  {
   "cell_type": "markdown",
   "metadata": {},
   "source": [
    "One Hot Encoding"
   ]
  },
  {
   "cell_type": "code",
   "execution_count": 40,
   "metadata": {},
   "outputs": [
    {
     "name": "stdout",
     "output_type": "stream",
     "text": [
      "i love nlp\n",
      "i = 6\n",
      "[0, 0, 0, 0, 0, 0, 0, 0, 0, 0]\n",
      "\n",
      "love = 5\n",
      "[0, 0, 0, 0, 0, 0, 0, 0, 0, 0]\n",
      "\n",
      "nlp = 9\n",
      "[0, 0, 0, 0, 0, 0, 0, 0, 0, 0]\n",
      "\n",
      "i love Machine learning\n",
      "i = 6\n",
      "[0, 0, 0, 0, 0, 0, 0, 0, 0, 0]\n",
      "\n",
      "love = 5\n",
      "[0, 0, 0, 0, 0, 0, 0, 0, 0, 0]\n",
      "\n",
      "Machine = 8\n",
      "[0, 0, 0, 0, 0, 0, 0, 0, 0, 0]\n",
      "\n",
      "learning = 7\n",
      "[0, 0, 0, 0, 0, 0, 0, 0, 0, 0]\n",
      "\n",
      "i study\n",
      "i = 6\n",
      "[0, 0, 0, 0, 0, 0, 0, 0, 0, 0]\n",
      "\n",
      "study = 0\n",
      "[0, 0, 0, 0, 0, 0, 0, 0, 0, 0]\n",
      "\n",
      "i am working with euron\n",
      "i = 6\n",
      "[0, 0, 0, 0, 0, 0, 0, 0, 0, 0]\n",
      "\n",
      "am = 2\n",
      "[0, 0, 0, 0, 0, 0, 0, 0, 0, 0]\n",
      "\n",
      "working = 4\n",
      "[0, 0, 0, 0, 0, 0, 0, 0, 0, 0]\n",
      "\n",
      "with = 1\n",
      "[0, 0, 0, 0, 0, 0, 0, 0, 0, 0]\n",
      "\n",
      "euron = 3\n",
      "[0, 0, 0, 0, 0, 0, 0, 0, 0, 0]\n",
      "\n"
     ]
    }
   ],
   "source": [
    "one_hot_vector=[]\n",
    "for sentence in corpus:\n",
    "    print(sentence)\n",
    "    sentence_vector=[]\n",
    "    for word in sentence.split():\n",
    "        vector=[0] * len(unique_words)\n",
    "        print(word, \"=\",word_to_index[word])\n",
    "        print(vector)\n",
    "        print()\n",
    "        \n",
    "        \n",
    "        "
   ]
  },
  {
   "cell_type": "code",
   "execution_count": 20,
   "metadata": {},
   "outputs": [
    {
     "name": "stdout",
     "output_type": "stream",
     "text": [
      "\n",
      "Sentence: i love nlp\n",
      "i: [0, 0, 0, 0, 0, 0, 1, 0, 0, 0]\n",
      "love: [0, 0, 0, 0, 0, 1, 0, 0, 0, 0]\n",
      "nlp: [0, 0, 0, 0, 0, 0, 0, 0, 0, 1]\n",
      "\n",
      "Sentence: i love Machine learning\n",
      "i: [0, 0, 0, 0, 0, 0, 1, 0, 0, 0]\n",
      "love: [0, 0, 0, 0, 0, 1, 0, 0, 0, 0]\n",
      "Machine: [0, 0, 0, 0, 0, 0, 0, 0, 1, 0]\n",
      "learning: [0, 0, 0, 0, 0, 0, 0, 1, 0, 0]\n",
      "\n",
      "Sentence: i study\n",
      "i: [0, 0, 0, 0, 0, 0, 1, 0, 0, 0]\n",
      "study: [1, 0, 0, 0, 0, 0, 0, 0, 0, 0]\n",
      "\n",
      "Sentence: i am working with euron\n",
      "i: [0, 0, 0, 0, 0, 0, 1, 0, 0, 0]\n",
      "am: [0, 0, 1, 0, 0, 0, 0, 0, 0, 0]\n",
      "working: [0, 0, 0, 0, 1, 0, 0, 0, 0, 0]\n",
      "with: [0, 1, 0, 0, 0, 0, 0, 0, 0, 0]\n",
      "euron: [0, 0, 0, 1, 0, 0, 0, 0, 0, 0]\n"
     ]
    }
   ],
   "source": [
    "for sentence in corpus:\n",
    "    print(f\"\\nSentence: {sentence}\")\n",
    "    sentence_vector = []\n",
    "    for word in sentence.split():\n",
    "        vector = [0] * len(unique_words)\n",
    "        if word in word_to_index:\n",
    "            vector[word_to_index[word]] = 1\n",
    "        print(f\"{word}: {vector}\")\n",
    "        sentence_vector.append(vector)\n",
    "    one_hot_vector.append(sentence_vector)"
   ]
  },
  {
   "cell_type": "markdown",
   "metadata": {},
   "source": [
    "Bag Of Words"
   ]
  },
  {
   "cell_type": "code",
   "execution_count": 21,
   "metadata": {},
   "outputs": [],
   "source": [
    "from sklearn.feature_extraction.text import CountVectorizer"
   ]
  },
  {
   "cell_type": "code",
   "execution_count": 22,
   "metadata": {},
   "outputs": [],
   "source": [
    "vectorizer=CountVectorizer(stop_words=None,lowercase=False,vocabulary=unique_words)"
   ]
  },
  {
   "cell_type": "code",
   "execution_count": 23,
   "metadata": {},
   "outputs": [],
   "source": [
    "corpus=[\"i love nlp nlp nlp\",\"i love love love love Machine learning\",\"i study\",\"i am working with euron euron euron\"]"
   ]
  },
  {
   "cell_type": "code",
   "execution_count": 24,
   "metadata": {},
   "outputs": [
    {
     "data": {
      "text/plain": [
       "['i love nlp nlp nlp',\n",
       " 'i love love love love Machine learning',\n",
       " 'i study',\n",
       " 'i am working with euron euron euron']"
      ]
     },
     "execution_count": 24,
     "metadata": {},
     "output_type": "execute_result"
    }
   ],
   "source": [
    "corpus"
   ]
  },
  {
   "cell_type": "code",
   "execution_count": 25,
   "metadata": {},
   "outputs": [],
   "source": [
    "X=vectorizer.fit_transform(corpus)"
   ]
  },
  {
   "cell_type": "code",
   "execution_count": 26,
   "metadata": {},
   "outputs": [
    {
     "data": {
      "text/plain": [
       "array([[0, 0, 0, 0, 0, 1, 3, 0, 0, 0],\n",
       "       [1, 0, 0, 0, 1, 4, 0, 0, 0, 0],\n",
       "       [0, 0, 0, 0, 0, 0, 0, 1, 0, 0],\n",
       "       [0, 1, 3, 0, 0, 0, 0, 0, 1, 1]], dtype=int64)"
      ]
     },
     "execution_count": 26,
     "metadata": {},
     "output_type": "execute_result"
    }
   ],
   "source": [
    "X.toarray()"
   ]
  },
  {
   "cell_type": "code",
   "execution_count": 27,
   "metadata": {},
   "outputs": [
    {
     "data": {
      "text/plain": [
       "array(['Machine', 'am', 'euron', 'i', 'learning', 'love', 'nlp', 'study',\n",
       "       'with', 'working'], dtype=object)"
      ]
     },
     "execution_count": 27,
     "metadata": {},
     "output_type": "execute_result"
    }
   ],
   "source": [
    "vectorizer.get_feature_names_out()"
   ]
  },
  {
   "cell_type": "markdown",
   "metadata": {},
   "source": [
    "TF - IDF "
   ]
  },
  {
   "cell_type": "code",
   "execution_count": 56,
   "metadata": {},
   "outputs": [
    {
     "data": {
      "text/plain": [
       "['i love nlp', 'i love Machine learning', 'i study', 'i am working with euron']"
      ]
     },
     "execution_count": 56,
     "metadata": {},
     "output_type": "execute_result"
    }
   ],
   "source": [
    "corpus"
   ]
  },
  {
   "cell_type": "code",
   "execution_count": 57,
   "metadata": {},
   "outputs": [],
   "source": [
    "from sklearn.feature_extraction.text import TfidfVectorizer"
   ]
  },
  {
   "cell_type": "code",
   "execution_count": 59,
   "metadata": {},
   "outputs": [],
   "source": [
    "vect_tf_idf=TfidfVectorizer()"
   ]
  },
  {
   "cell_type": "code",
   "execution_count": 60,
   "metadata": {},
   "outputs": [
    {
     "data": {
      "text/plain": [
       "<4x9 sparse matrix of type '<class 'numpy.float64'>'\n",
       "\twith 10 stored elements in Compressed Sparse Row format>"
      ]
     },
     "execution_count": 60,
     "metadata": {},
     "output_type": "execute_result"
    }
   ],
   "source": [
    "vect_tf_idf.fit_transform(corpus)"
   ]
  },
  {
   "cell_type": "code",
   "execution_count": 61,
   "metadata": {},
   "outputs": [],
   "source": [
    "X=vect_tf_idf.fit_transform(corpus)"
   ]
  },
  {
   "cell_type": "code",
   "execution_count": 63,
   "metadata": {},
   "outputs": [
    {
     "data": {
      "text/plain": [
       "array([[0.        , 0.        , 0.        , 0.6191303 , 0.        ,\n",
       "        0.78528828, 0.        , 0.        , 0.        ],\n",
       "       [0.        , 0.        , 0.61761437, 0.48693426, 0.61761437,\n",
       "        0.        , 0.        , 0.        , 0.        ],\n",
       "       [0.        , 0.        , 0.        , 0.        , 0.        ,\n",
       "        0.        , 1.        , 0.        , 0.        ],\n",
       "       [0.5       , 0.5       , 0.        , 0.        , 0.        ,\n",
       "        0.        , 0.        , 0.5       , 0.5       ]])"
      ]
     },
     "execution_count": 63,
     "metadata": {},
     "output_type": "execute_result"
    }
   ],
   "source": [
    "X.toarray()"
   ]
  },
  {
   "cell_type": "code",
   "execution_count": null,
   "metadata": {},
   "outputs": [],
   "source": []
  }
 ],
 "metadata": {
  "kernelspec": {
   "display_name": "Python 3",
   "language": "python",
   "name": "python3"
  },
  "language_info": {
   "codemirror_mode": {
    "name": "ipython",
    "version": 3
   },
   "file_extension": ".py",
   "mimetype": "text/x-python",
   "name": "python",
   "nbconvert_exporter": "python",
   "pygments_lexer": "ipython3",
   "version": "3.10.1"
  }
 },
 "nbformat": 4,
 "nbformat_minor": 2
}
